{
 "cells": [
  {
   "cell_type": "code",
   "execution_count": 1,
   "id": "edacd886-241e-40e7-8df3-3d5726643978",
   "metadata": {},
   "outputs": [],
   "source": [
    "import pandas as pd"
   ]
  },
  {
   "cell_type": "code",
   "execution_count": 146,
   "id": "f3fdafaf-1d66-4a0d-9d71-0404b7e2abca",
   "metadata": {},
   "outputs": [
    {
     "data": {
      "text/html": [
       "<div>\n",
       "<style scoped>\n",
       "    .dataframe tbody tr th:only-of-type {\n",
       "        vertical-align: middle;\n",
       "    }\n",
       "\n",
       "    .dataframe tbody tr th {\n",
       "        vertical-align: top;\n",
       "    }\n",
       "\n",
       "    .dataframe thead th {\n",
       "        text-align: right;\n",
       "    }\n",
       "</style>\n",
       "<table border=\"1\" class=\"dataframe\">\n",
       "  <thead>\n",
       "    <tr style=\"text-align: right;\">\n",
       "      <th></th>\n",
       "      <th>Order ID</th>\n",
       "      <th>Product</th>\n",
       "      <th>Quantity Ordered</th>\n",
       "      <th>Price Each</th>\n",
       "      <th>Order Date</th>\n",
       "      <th>Purchase Address</th>\n",
       "    </tr>\n",
       "  </thead>\n",
       "  <tbody>\n",
       "    <tr>\n",
       "      <th>0</th>\n",
       "      <td>10001</td>\n",
       "      <td>Laptop</td>\n",
       "      <td>1</td>\n",
       "      <td>1200.0</td>\n",
       "      <td>2023-07-01 10:00:00</td>\n",
       "      <td>123 Elm St, New York, NY 10001</td>\n",
       "    </tr>\n",
       "    <tr>\n",
       "      <th>1</th>\n",
       "      <td>10002</td>\n",
       "      <td>Mouse</td>\n",
       "      <td>2</td>\n",
       "      <td>25.0</td>\n",
       "      <td>2023-07-01 11:00:00</td>\n",
       "      <td>456 Oak St, San Francisco, CA 94107</td>\n",
       "    </tr>\n",
       "    <tr>\n",
       "      <th>2</th>\n",
       "      <td>10003</td>\n",
       "      <td>Monitor</td>\n",
       "      <td>1</td>\n",
       "      <td>200.0</td>\n",
       "      <td>2023-07-01 12:00:00</td>\n",
       "      <td>789 Maple St, Los Angeles, CA 90001</td>\n",
       "    </tr>\n",
       "    <tr>\n",
       "      <th>3</th>\n",
       "      <td>10004</td>\n",
       "      <td>Keyboard</td>\n",
       "      <td>3</td>\n",
       "      <td>75.0</td>\n",
       "      <td>2023-07-02 09:00:00</td>\n",
       "      <td>101 Pine St, Seattle, WA 98101</td>\n",
       "    </tr>\n",
       "    <tr>\n",
       "      <th>4</th>\n",
       "      <td>10005</td>\n",
       "      <td>Headset</td>\n",
       "      <td>2</td>\n",
       "      <td>50.0</td>\n",
       "      <td>2023-07-02 10:00:00</td>\n",
       "      <td>202 Birch St, Boston, MA 02115</td>\n",
       "    </tr>\n",
       "    <tr>\n",
       "      <th>5</th>\n",
       "      <td>10006</td>\n",
       "      <td>Laptop</td>\n",
       "      <td>1</td>\n",
       "      <td>1200.0</td>\n",
       "      <td>2023-07-03 08:00:00</td>\n",
       "      <td>123 Elm St, New York, NY 10001</td>\n",
       "    </tr>\n",
       "  </tbody>\n",
       "</table>\n",
       "</div>"
      ],
      "text/plain": [
       "   Order ID   Product  Quantity Ordered  Price Each           Order Date  \\\n",
       "0     10001    Laptop                 1      1200.0  2023-07-01 10:00:00   \n",
       "1     10002     Mouse                 2        25.0  2023-07-01 11:00:00   \n",
       "2     10003   Monitor                 1       200.0  2023-07-01 12:00:00   \n",
       "3     10004  Keyboard                 3        75.0  2023-07-02 09:00:00   \n",
       "4     10005   Headset                 2        50.0  2023-07-02 10:00:00   \n",
       "5     10006    Laptop                 1      1200.0  2023-07-03 08:00:00   \n",
       "\n",
       "                      Purchase Address  \n",
       "0       123 Elm St, New York, NY 10001  \n",
       "1  456 Oak St, San Francisco, CA 94107  \n",
       "2  789 Maple St, Los Angeles, CA 90001  \n",
       "3       101 Pine St, Seattle, WA 98101  \n",
       "4       202 Birch St, Boston, MA 02115  \n",
       "5       123 Elm St, New York, NY 10001  "
      ]
     },
     "execution_count": 146,
     "metadata": {},
     "output_type": "execute_result"
    }
   ],
   "source": [
    "sales_data = {\n",
    "    'Order ID': [10001, 10002, 10003, 10004, 10005, 10006],\n",
    "    'Product': ['Laptop', 'Mouse', 'Monitor', 'Keyboard', 'Headset', 'Laptop'],\n",
    "    'Quantity Ordered': [1, 2, 1, 3, 2, 1],\n",
    "    'Price Each': [1200.00, 25.00, 200.00, 75.00, 50.00, 1200.00],\n",
    "    'Order Date': ['2023-07-01 10:00:00', '2023-07-01 11:00:00', '2023-07-01 12:00:00', '2023-07-02 09:00:00', '2023-07-02 10:00:00', '2023-07-03 08:00:00'],\n",
    "    'Purchase Address': ['123 Elm St, New York, NY 10001',\n",
    "                        '456 Oak St, San Francisco, CA 94107',\n",
    "                         '789 Maple St, Los Angeles, CA 90001',\n",
    "                         '101 Pine St, Seattle, WA 98101',\n",
    "                         '202 Birch St, Boston, MA 02115',\n",
    "                         '123 Elm St, New York, NY 10001'\n",
    "                        ]\n",
    "}\n",
    "df=pd.DataFrame(sales_data)\n",
    "df"
   ]
  },
  {
   "cell_type": "markdown",
   "id": "539de9d9-0a66-44a6-a734-0c4bc6643ec3",
   "metadata": {},
   "source": [
    "1.DISPLAY TOP 3 ROWS OF THE DATASET "
   ]
  },
  {
   "cell_type": "code",
   "execution_count": 148,
   "id": "3d9d12f2-6b15-41bb-90e9-88afb9d2d13d",
   "metadata": {},
   "outputs": [
    {
     "data": {
      "text/html": [
       "<div>\n",
       "<style scoped>\n",
       "    .dataframe tbody tr th:only-of-type {\n",
       "        vertical-align: middle;\n",
       "    }\n",
       "\n",
       "    .dataframe tbody tr th {\n",
       "        vertical-align: top;\n",
       "    }\n",
       "\n",
       "    .dataframe thead th {\n",
       "        text-align: right;\n",
       "    }\n",
       "</style>\n",
       "<table border=\"1\" class=\"dataframe\">\n",
       "  <thead>\n",
       "    <tr style=\"text-align: right;\">\n",
       "      <th></th>\n",
       "      <th>Order ID</th>\n",
       "      <th>Product</th>\n",
       "      <th>Quantity Ordered</th>\n",
       "      <th>Price Each</th>\n",
       "      <th>Order Date</th>\n",
       "      <th>Purchase Address</th>\n",
       "    </tr>\n",
       "  </thead>\n",
       "  <tbody>\n",
       "    <tr>\n",
       "      <th>0</th>\n",
       "      <td>10001</td>\n",
       "      <td>Laptop</td>\n",
       "      <td>1</td>\n",
       "      <td>1200.0</td>\n",
       "      <td>2023-07-01 10:00:00</td>\n",
       "      <td>123 Elm St, New York, NY 10001</td>\n",
       "    </tr>\n",
       "    <tr>\n",
       "      <th>1</th>\n",
       "      <td>10002</td>\n",
       "      <td>Mouse</td>\n",
       "      <td>2</td>\n",
       "      <td>25.0</td>\n",
       "      <td>2023-07-01 11:00:00</td>\n",
       "      <td>456 Oak St, San Francisco, CA 94107</td>\n",
       "    </tr>\n",
       "    <tr>\n",
       "      <th>2</th>\n",
       "      <td>10003</td>\n",
       "      <td>Monitor</td>\n",
       "      <td>1</td>\n",
       "      <td>200.0</td>\n",
       "      <td>2023-07-01 12:00:00</td>\n",
       "      <td>789 Maple St, Los Angeles, CA 90001</td>\n",
       "    </tr>\n",
       "  </tbody>\n",
       "</table>\n",
       "</div>"
      ],
      "text/plain": [
       "   Order ID  Product  Quantity Ordered  Price Each           Order Date  \\\n",
       "0     10001   Laptop                 1      1200.0  2023-07-01 10:00:00   \n",
       "1     10002    Mouse                 2        25.0  2023-07-01 11:00:00   \n",
       "2     10003  Monitor                 1       200.0  2023-07-01 12:00:00   \n",
       "\n",
       "                      Purchase Address  \n",
       "0       123 Elm St, New York, NY 10001  \n",
       "1  456 Oak St, San Francisco, CA 94107  \n",
       "2  789 Maple St, Los Angeles, CA 90001  "
      ]
     },
     "execution_count": 148,
     "metadata": {},
     "output_type": "execute_result"
    }
   ],
   "source": [
    "df.head(3) # head is used for display the above data on the dataset"
   ]
  },
  {
   "cell_type": "markdown",
   "id": "f3838cae-1ff2-43ed-bcaa-4f16795d8114",
   "metadata": {},
   "source": [
    "2.CHECK LAST 3 ROWS OF THE DATASET"
   ]
  },
  {
   "cell_type": "code",
   "execution_count": 150,
   "id": "2636995e-536f-4005-ad20-318d2cf0a7af",
   "metadata": {},
   "outputs": [
    {
     "data": {
      "text/html": [
       "<div>\n",
       "<style scoped>\n",
       "    .dataframe tbody tr th:only-of-type {\n",
       "        vertical-align: middle;\n",
       "    }\n",
       "\n",
       "    .dataframe tbody tr th {\n",
       "        vertical-align: top;\n",
       "    }\n",
       "\n",
       "    .dataframe thead th {\n",
       "        text-align: right;\n",
       "    }\n",
       "</style>\n",
       "<table border=\"1\" class=\"dataframe\">\n",
       "  <thead>\n",
       "    <tr style=\"text-align: right;\">\n",
       "      <th></th>\n",
       "      <th>Order ID</th>\n",
       "      <th>Product</th>\n",
       "      <th>Quantity Ordered</th>\n",
       "      <th>Price Each</th>\n",
       "      <th>Order Date</th>\n",
       "      <th>Purchase Address</th>\n",
       "    </tr>\n",
       "  </thead>\n",
       "  <tbody>\n",
       "    <tr>\n",
       "      <th>3</th>\n",
       "      <td>10004</td>\n",
       "      <td>Keyboard</td>\n",
       "      <td>3</td>\n",
       "      <td>75.0</td>\n",
       "      <td>2023-07-02 09:00:00</td>\n",
       "      <td>101 Pine St, Seattle, WA 98101</td>\n",
       "    </tr>\n",
       "    <tr>\n",
       "      <th>4</th>\n",
       "      <td>10005</td>\n",
       "      <td>Headset</td>\n",
       "      <td>2</td>\n",
       "      <td>50.0</td>\n",
       "      <td>2023-07-02 10:00:00</td>\n",
       "      <td>202 Birch St, Boston, MA 02115</td>\n",
       "    </tr>\n",
       "    <tr>\n",
       "      <th>5</th>\n",
       "      <td>10006</td>\n",
       "      <td>Laptop</td>\n",
       "      <td>1</td>\n",
       "      <td>1200.0</td>\n",
       "      <td>2023-07-03 08:00:00</td>\n",
       "      <td>123 Elm St, New York, NY 10001</td>\n",
       "    </tr>\n",
       "  </tbody>\n",
       "</table>\n",
       "</div>"
      ],
      "text/plain": [
       "   Order ID   Product  Quantity Ordered  Price Each           Order Date  \\\n",
       "3     10004  Keyboard                 3        75.0  2023-07-02 09:00:00   \n",
       "4     10005   Headset                 2        50.0  2023-07-02 10:00:00   \n",
       "5     10006    Laptop                 1      1200.0  2023-07-03 08:00:00   \n",
       "\n",
       "                 Purchase Address  \n",
       "3  101 Pine St, Seattle, WA 98101  \n",
       "4  202 Birch St, Boston, MA 02115  \n",
       "5  123 Elm St, New York, NY 10001  "
      ]
     },
     "execution_count": 150,
     "metadata": {},
     "output_type": "execute_result"
    }
   ],
   "source": [
    "df.tail(3)  # tail is used to display the below the data of dataset"
   ]
  },
  {
   "cell_type": "markdown",
   "id": "f23e4906-5af3-4f70-b5ac-6f2e1107de71",
   "metadata": {},
   "source": [
    "3. FIND SHAPE OF OUR DATASET (NUMBER OF ROWS AND NUMBER OF COLUMS)"
   ]
  },
  {
   "cell_type": "code",
   "execution_count": 152,
   "id": "446dda63-20ce-468c-b23e-8c9a0d595d93",
   "metadata": {},
   "outputs": [
    {
     "data": {
      "text/plain": [
       "(6, 6)"
      ]
     },
     "execution_count": 152,
     "metadata": {},
     "output_type": "execute_result"
    }
   ],
   "source": [
    "df.shape # shape is a attribute in the pandas which is used to count the rows and columns in dataset"
   ]
  },
  {
   "cell_type": "code",
   "execution_count": 154,
   "id": "cd9f3842-a025-419e-8478-309d83693f31",
   "metadata": {},
   "outputs": [
    {
     "name": "stdout",
     "output_type": "stream",
     "text": [
      "Total number of rows 6\n",
      "Total number of columns 6\n"
     ]
    }
   ],
   "source": [
    "print('Total number of rows',df.shape[0])\n",
    "print('Total number of columns',df.shape[1])"
   ]
  },
  {
   "cell_type": "markdown",
   "id": "e3bc9587-7cf0-43b2-8151-615509f0de2e",
   "metadata": {},
   "source": [
    "4.GET INFORMATION ABOUT OUR DATASET LIKE TOTAL NUMBER ROWS, TOTAL NUMBER OF COLUMNS, DATASET OF EACH COLUMN AND MEMORY REQUIREMENT"
   ]
  },
  {
   "cell_type": "code",
   "execution_count": 156,
   "id": "699aca9b-91ca-43e6-a593-5266fac3de1c",
   "metadata": {},
   "outputs": [
    {
     "name": "stdout",
     "output_type": "stream",
     "text": [
      "<class 'pandas.core.frame.DataFrame'>\n",
      "RangeIndex: 6 entries, 0 to 5\n",
      "Data columns (total 6 columns):\n",
      " #   Column            Non-Null Count  Dtype  \n",
      "---  ------            --------------  -----  \n",
      " 0   Order ID          6 non-null      int64  \n",
      " 1   Product           6 non-null      object \n",
      " 2   Quantity Ordered  6 non-null      int64  \n",
      " 3   Price Each        6 non-null      float64\n",
      " 4   Order Date        6 non-null      object \n",
      " 5   Purchase Address  6 non-null      object \n",
      "dtypes: float64(1), int64(2), object(3)\n",
      "memory usage: 420.0+ bytes\n"
     ]
    }
   ],
   "source": [
    "df.info()  #info() method is used to get the all information about dataset like - No. of Rows and Columns,datatypes,colums names,No.of Null Value of each columns"
   ]
  },
  {
   "cell_type": "markdown",
   "id": "0b93aca2-886c-451d-b21d-411fb0299d45",
   "metadata": {},
   "source": [
    "5. CHECK NULL VALUES IN THE DATASET"
   ]
  },
  {
   "cell_type": "code",
   "execution_count": 158,
   "id": "178881dd-8e6d-40ce-b5a4-3ece1a4366e6",
   "metadata": {},
   "outputs": [
    {
     "data": {
      "text/html": [
       "<div>\n",
       "<style scoped>\n",
       "    .dataframe tbody tr th:only-of-type {\n",
       "        vertical-align: middle;\n",
       "    }\n",
       "\n",
       "    .dataframe tbody tr th {\n",
       "        vertical-align: top;\n",
       "    }\n",
       "\n",
       "    .dataframe thead th {\n",
       "        text-align: right;\n",
       "    }\n",
       "</style>\n",
       "<table border=\"1\" class=\"dataframe\">\n",
       "  <thead>\n",
       "    <tr style=\"text-align: right;\">\n",
       "      <th></th>\n",
       "      <th>Order ID</th>\n",
       "      <th>Product</th>\n",
       "      <th>Quantity Ordered</th>\n",
       "      <th>Price Each</th>\n",
       "      <th>Order Date</th>\n",
       "      <th>Purchase Address</th>\n",
       "    </tr>\n",
       "  </thead>\n",
       "  <tbody>\n",
       "    <tr>\n",
       "      <th>0</th>\n",
       "      <td>False</td>\n",
       "      <td>False</td>\n",
       "      <td>False</td>\n",
       "      <td>False</td>\n",
       "      <td>False</td>\n",
       "      <td>False</td>\n",
       "    </tr>\n",
       "    <tr>\n",
       "      <th>1</th>\n",
       "      <td>False</td>\n",
       "      <td>False</td>\n",
       "      <td>False</td>\n",
       "      <td>False</td>\n",
       "      <td>False</td>\n",
       "      <td>False</td>\n",
       "    </tr>\n",
       "    <tr>\n",
       "      <th>2</th>\n",
       "      <td>False</td>\n",
       "      <td>False</td>\n",
       "      <td>False</td>\n",
       "      <td>False</td>\n",
       "      <td>False</td>\n",
       "      <td>False</td>\n",
       "    </tr>\n",
       "    <tr>\n",
       "      <th>3</th>\n",
       "      <td>False</td>\n",
       "      <td>False</td>\n",
       "      <td>False</td>\n",
       "      <td>False</td>\n",
       "      <td>False</td>\n",
       "      <td>False</td>\n",
       "    </tr>\n",
       "    <tr>\n",
       "      <th>4</th>\n",
       "      <td>False</td>\n",
       "      <td>False</td>\n",
       "      <td>False</td>\n",
       "      <td>False</td>\n",
       "      <td>False</td>\n",
       "      <td>False</td>\n",
       "    </tr>\n",
       "    <tr>\n",
       "      <th>5</th>\n",
       "      <td>False</td>\n",
       "      <td>False</td>\n",
       "      <td>False</td>\n",
       "      <td>False</td>\n",
       "      <td>False</td>\n",
       "      <td>False</td>\n",
       "    </tr>\n",
       "  </tbody>\n",
       "</table>\n",
       "</div>"
      ],
      "text/plain": [
       "   Order ID  Product  Quantity Ordered  Price Each  Order Date  \\\n",
       "0     False    False             False       False       False   \n",
       "1     False    False             False       False       False   \n",
       "2     False    False             False       False       False   \n",
       "3     False    False             False       False       False   \n",
       "4     False    False             False       False       False   \n",
       "5     False    False             False       False       False   \n",
       "\n",
       "   Purchase Address  \n",
       "0             False  \n",
       "1             False  \n",
       "2             False  \n",
       "3             False  \n",
       "4             False  \n",
       "5             False  "
      ]
     },
     "execution_count": 158,
     "metadata": {},
     "output_type": "execute_result"
    }
   ],
   "source": [
    "    df.isnull() # isnull() method is used to find the null value in dataset. It display the True and False value in the dataset , True is used for Null value and False is used for Not Null value"
   ]
  },
  {
   "cell_type": "markdown",
   "id": "2068c20c-9cb6-4bfc-b8dc-f042754f63d7",
   "metadata": {},
   "source": [
    "6.CHECK TOTAL NULLL VALUES IN THE DATASET OF EACH COLUMNS"
   ]
  },
  {
   "cell_type": "code",
   "execution_count": 160,
   "id": "6777f4e0-933f-47f2-ae69-20d8b7010834",
   "metadata": {},
   "outputs": [
    {
     "data": {
      "text/plain": [
       "Order ID            0\n",
       "Product             0\n",
       "Quantity Ordered    0\n",
       "Price Each          0\n",
       "Order Date          0\n",
       "Purchase Address    0\n",
       "dtype: int64"
      ]
     },
     "execution_count": 160,
     "metadata": {},
     "output_type": "execute_result"
    }
   ],
   "source": [
    "df.isnull().sum() # sum count the total number of null value in the dataset"
   ]
  },
  {
   "cell_type": "markdown",
   "id": "5a73f46c-050c-4f5a-8d60-d5f25536d4c5",
   "metadata": {},
   "source": [
    "7.GET OVERALL STATISTICS ABOUT THE DATASET"
   ]
  },
  {
   "cell_type": "code",
   "execution_count": 162,
   "id": "4107d18e-0209-4d91-b92e-56bc0e397b96",
   "metadata": {},
   "outputs": [
    {
     "data": {
      "text/html": [
       "<div>\n",
       "<style scoped>\n",
       "    .dataframe tbody tr th:only-of-type {\n",
       "        vertical-align: middle;\n",
       "    }\n",
       "\n",
       "    .dataframe tbody tr th {\n",
       "        vertical-align: top;\n",
       "    }\n",
       "\n",
       "    .dataframe thead th {\n",
       "        text-align: right;\n",
       "    }\n",
       "</style>\n",
       "<table border=\"1\" class=\"dataframe\">\n",
       "  <thead>\n",
       "    <tr style=\"text-align: right;\">\n",
       "      <th></th>\n",
       "      <th>Order ID</th>\n",
       "      <th>Quantity Ordered</th>\n",
       "      <th>Price Each</th>\n",
       "    </tr>\n",
       "  </thead>\n",
       "  <tbody>\n",
       "    <tr>\n",
       "      <th>count</th>\n",
       "      <td>6.000000</td>\n",
       "      <td>6.000000</td>\n",
       "      <td>6.000000</td>\n",
       "    </tr>\n",
       "    <tr>\n",
       "      <th>mean</th>\n",
       "      <td>10003.500000</td>\n",
       "      <td>1.666667</td>\n",
       "      <td>458.333333</td>\n",
       "    </tr>\n",
       "    <tr>\n",
       "      <th>std</th>\n",
       "      <td>1.870829</td>\n",
       "      <td>0.816497</td>\n",
       "      <td>577.638872</td>\n",
       "    </tr>\n",
       "    <tr>\n",
       "      <th>min</th>\n",
       "      <td>10001.000000</td>\n",
       "      <td>1.000000</td>\n",
       "      <td>25.000000</td>\n",
       "    </tr>\n",
       "    <tr>\n",
       "      <th>25%</th>\n",
       "      <td>10002.250000</td>\n",
       "      <td>1.000000</td>\n",
       "      <td>56.250000</td>\n",
       "    </tr>\n",
       "    <tr>\n",
       "      <th>50%</th>\n",
       "      <td>10003.500000</td>\n",
       "      <td>1.500000</td>\n",
       "      <td>137.500000</td>\n",
       "    </tr>\n",
       "    <tr>\n",
       "      <th>75%</th>\n",
       "      <td>10004.750000</td>\n",
       "      <td>2.000000</td>\n",
       "      <td>950.000000</td>\n",
       "    </tr>\n",
       "    <tr>\n",
       "      <th>max</th>\n",
       "      <td>10006.000000</td>\n",
       "      <td>3.000000</td>\n",
       "      <td>1200.000000</td>\n",
       "    </tr>\n",
       "  </tbody>\n",
       "</table>\n",
       "</div>"
      ],
      "text/plain": [
       "           Order ID  Quantity Ordered   Price Each\n",
       "count      6.000000          6.000000     6.000000\n",
       "mean   10003.500000          1.666667   458.333333\n",
       "std        1.870829          0.816497   577.638872\n",
       "min    10001.000000          1.000000    25.000000\n",
       "25%    10002.250000          1.000000    56.250000\n",
       "50%    10003.500000          1.500000   137.500000\n",
       "75%    10004.750000          2.000000   950.000000\n",
       "max    10006.000000          3.000000  1200.000000"
      ]
     },
     "execution_count": 162,
     "metadata": {},
     "output_type": "execute_result"
    }
   ],
   "source": [
    "df.describe()  # The descibe() method is used to display default- Only float and integer value columns of statistics calculation in dataset"
   ]
  },
  {
   "cell_type": "code",
   "execution_count": 164,
   "id": "2c5a4edc-91ac-465d-bfd2-ce4a110e2811",
   "metadata": {},
   "outputs": [
    {
     "data": {
      "text/html": [
       "<div>\n",
       "<style scoped>\n",
       "    .dataframe tbody tr th:only-of-type {\n",
       "        vertical-align: middle;\n",
       "    }\n",
       "\n",
       "    .dataframe tbody tr th {\n",
       "        vertical-align: top;\n",
       "    }\n",
       "\n",
       "    .dataframe thead th {\n",
       "        text-align: right;\n",
       "    }\n",
       "</style>\n",
       "<table border=\"1\" class=\"dataframe\">\n",
       "  <thead>\n",
       "    <tr style=\"text-align: right;\">\n",
       "      <th></th>\n",
       "      <th>Order ID</th>\n",
       "      <th>Product</th>\n",
       "      <th>Quantity Ordered</th>\n",
       "      <th>Price Each</th>\n",
       "      <th>Order Date</th>\n",
       "      <th>Purchase Address</th>\n",
       "    </tr>\n",
       "  </thead>\n",
       "  <tbody>\n",
       "    <tr>\n",
       "      <th>count</th>\n",
       "      <td>6.000000</td>\n",
       "      <td>6</td>\n",
       "      <td>6.000000</td>\n",
       "      <td>6.000000</td>\n",
       "      <td>6</td>\n",
       "      <td>6</td>\n",
       "    </tr>\n",
       "    <tr>\n",
       "      <th>unique</th>\n",
       "      <td>NaN</td>\n",
       "      <td>5</td>\n",
       "      <td>NaN</td>\n",
       "      <td>NaN</td>\n",
       "      <td>6</td>\n",
       "      <td>5</td>\n",
       "    </tr>\n",
       "    <tr>\n",
       "      <th>top</th>\n",
       "      <td>NaN</td>\n",
       "      <td>Laptop</td>\n",
       "      <td>NaN</td>\n",
       "      <td>NaN</td>\n",
       "      <td>2023-07-01 10:00:00</td>\n",
       "      <td>123 Elm St, New York, NY 10001</td>\n",
       "    </tr>\n",
       "    <tr>\n",
       "      <th>freq</th>\n",
       "      <td>NaN</td>\n",
       "      <td>2</td>\n",
       "      <td>NaN</td>\n",
       "      <td>NaN</td>\n",
       "      <td>1</td>\n",
       "      <td>2</td>\n",
       "    </tr>\n",
       "    <tr>\n",
       "      <th>mean</th>\n",
       "      <td>10003.500000</td>\n",
       "      <td>NaN</td>\n",
       "      <td>1.666667</td>\n",
       "      <td>458.333333</td>\n",
       "      <td>NaN</td>\n",
       "      <td>NaN</td>\n",
       "    </tr>\n",
       "    <tr>\n",
       "      <th>std</th>\n",
       "      <td>1.870829</td>\n",
       "      <td>NaN</td>\n",
       "      <td>0.816497</td>\n",
       "      <td>577.638872</td>\n",
       "      <td>NaN</td>\n",
       "      <td>NaN</td>\n",
       "    </tr>\n",
       "    <tr>\n",
       "      <th>min</th>\n",
       "      <td>10001.000000</td>\n",
       "      <td>NaN</td>\n",
       "      <td>1.000000</td>\n",
       "      <td>25.000000</td>\n",
       "      <td>NaN</td>\n",
       "      <td>NaN</td>\n",
       "    </tr>\n",
       "    <tr>\n",
       "      <th>25%</th>\n",
       "      <td>10002.250000</td>\n",
       "      <td>NaN</td>\n",
       "      <td>1.000000</td>\n",
       "      <td>56.250000</td>\n",
       "      <td>NaN</td>\n",
       "      <td>NaN</td>\n",
       "    </tr>\n",
       "    <tr>\n",
       "      <th>50%</th>\n",
       "      <td>10003.500000</td>\n",
       "      <td>NaN</td>\n",
       "      <td>1.500000</td>\n",
       "      <td>137.500000</td>\n",
       "      <td>NaN</td>\n",
       "      <td>NaN</td>\n",
       "    </tr>\n",
       "    <tr>\n",
       "      <th>75%</th>\n",
       "      <td>10004.750000</td>\n",
       "      <td>NaN</td>\n",
       "      <td>2.000000</td>\n",
       "      <td>950.000000</td>\n",
       "      <td>NaN</td>\n",
       "      <td>NaN</td>\n",
       "    </tr>\n",
       "    <tr>\n",
       "      <th>max</th>\n",
       "      <td>10006.000000</td>\n",
       "      <td>NaN</td>\n",
       "      <td>3.000000</td>\n",
       "      <td>1200.000000</td>\n",
       "      <td>NaN</td>\n",
       "      <td>NaN</td>\n",
       "    </tr>\n",
       "  </tbody>\n",
       "</table>\n",
       "</div>"
      ],
      "text/plain": [
       "            Order ID Product  Quantity Ordered   Price Each  \\\n",
       "count       6.000000       6          6.000000     6.000000   \n",
       "unique           NaN       5               NaN          NaN   \n",
       "top              NaN  Laptop               NaN          NaN   \n",
       "freq             NaN       2               NaN          NaN   \n",
       "mean    10003.500000     NaN          1.666667   458.333333   \n",
       "std         1.870829     NaN          0.816497   577.638872   \n",
       "min     10001.000000     NaN          1.000000    25.000000   \n",
       "25%     10002.250000     NaN          1.000000    56.250000   \n",
       "50%     10003.500000     NaN          1.500000   137.500000   \n",
       "75%     10004.750000     NaN          2.000000   950.000000   \n",
       "max     10006.000000     NaN          3.000000  1200.000000   \n",
       "\n",
       "                 Order Date                Purchase Address  \n",
       "count                     6                               6  \n",
       "unique                    6                               5  \n",
       "top     2023-07-01 10:00:00  123 Elm St, New York, NY 10001  \n",
       "freq                      1                               2  \n",
       "mean                    NaN                             NaN  \n",
       "std                     NaN                             NaN  \n",
       "min                     NaN                             NaN  \n",
       "25%                     NaN                             NaN  \n",
       "50%                     NaN                             NaN  \n",
       "75%                     NaN                             NaN  \n",
       "max                     NaN                             NaN  "
      ]
     },
     "execution_count": 164,
     "metadata": {},
     "output_type": "execute_result"
    }
   ],
   "source": [
    "df.describe(include='all') # The [include = all] will be include all columns whether it is strings and display the statistics calculation"
   ]
  },
  {
   "cell_type": "markdown",
   "id": "da23267e-d48a-4216-95de-4b113e732a95",
   "metadata": {},
   "source": [
    "8. FIND THE UNIQUE VALUE IN THE COULUMS OF QUANTITY ORDERED "
   ]
  },
  {
   "cell_type": "code",
   "execution_count": 166,
   "id": "84a4f293-ae3a-4b0b-af97-32fb703b9837",
   "metadata": {},
   "outputs": [
    {
     "data": {
      "text/plain": [
       "array([1, 2, 3], dtype=int64)"
      ]
     },
     "execution_count": 166,
     "metadata": {},
     "output_type": "execute_result"
    }
   ],
   "source": [
    "df['Quantity Ordered'].unique() # This method is very useful when you want to identify all the distinct or same elements present in your data."
   ]
  },
  {
   "cell_type": "code",
   "execution_count": 168,
   "id": "3517e456-e4b6-42f9-8dcc-76ce25f6ba1a",
   "metadata": {},
   "outputs": [
    {
     "data": {
      "text/plain": [
       "3"
      ]
     },
     "execution_count": 168,
     "metadata": {},
     "output_type": "execute_result"
    }
   ],
   "source": [
    "df['Quantity Ordered'].nunique()  #It can be particularly useful for summarizing data to understand the number of distinct or same values present."
   ]
  },
  {
   "cell_type": "code",
   "execution_count": 170,
   "id": "4bd91370-f596-4312-b462-08e4c97492a6",
   "metadata": {},
   "outputs": [
    {
     "data": {
      "text/plain": [
       "Quantity Ordered\n",
       "1    3\n",
       "2    2\n",
       "3    1\n",
       "Name: count, dtype: int64"
      ]
     },
     "execution_count": 170,
     "metadata": {},
     "output_type": "execute_result"
    }
   ],
   "source": [
    "df['Quantity Ordered'].value_counts()  # display the counts of unique value in Quantity Ordered columns\n",
    "# df['Product'].value_counts() #just for example "
   ]
  },
  {
   "cell_type": "markdown",
   "id": "02602762-8fc6-4c95-8da7-99a4590fdb59",
   "metadata": {},
   "source": [
    "9. FIND TOTAL NUMBER OF PRODUCT HAVING PRICE BETWEEN 1000 TO 1500 USING METHOD"
   ]
  },
  {
   "cell_type": "code",
   "execution_count": 172,
   "id": "4ada00be-8edd-4c78-89e8-dc8cd0375d19",
   "metadata": {},
   "outputs": [
    {
     "name": "stdout",
     "output_type": "stream",
     "text": [
      "There are  2  Rows who contain the price between 1000 to 1500\n"
     ]
    }
   ],
   "source": [
    "print('There are ', len(df[(df['Price Each']>=1000) & (df['Price Each']<=1500)]),' Rows who contain the price between 1000 to 1500')"
   ]
  },
  {
   "cell_type": "code",
   "execution_count": 174,
   "id": "0444e7fc-cb2c-4c92-a756-7e50e05aeb25",
   "metadata": {},
   "outputs": [
    {
     "data": {
      "text/plain": [
       "2"
      ]
     },
     "execution_count": 174,
     "metadata": {},
     "output_type": "execute_result"
    }
   ],
   "source": [
    "sum(df['Price Each'].between(1000,1500))"
   ]
  },
  {
   "cell_type": "markdown",
   "id": "c6f97b67-77a5-49cb-9c68-389cf9e09cf1",
   "metadata": {},
   "source": [
    "10. FIND THE AVERAGE OF PRICE"
   ]
  },
  {
   "cell_type": "code",
   "execution_count": 176,
   "id": "50d77506-6e43-4ef6-adc9-8c00df277a2c",
   "metadata": {},
   "outputs": [
    {
     "data": {
      "text/plain": [
       "458.3333333333333"
      ]
     },
     "execution_count": 176,
     "metadata": {},
     "output_type": "execute_result"
    }
   ],
   "source": [
    "df['Price Each'].mean()"
   ]
  },
  {
   "cell_type": "markdown",
   "id": "226bd258-a4d2-4175-9fe8-34c3e1220f95",
   "metadata": {},
   "source": [
    "DROP THE ORDER DATE & PURCHASE ADDRESS COLUMN "
   ]
  },
  {
   "cell_type": "code",
   "execution_count": 180,
   "id": "f99a949a-ee04-4ffe-8519-46d93532a9d1",
   "metadata": {},
   "outputs": [],
   "source": [
    "df.drop(['Order Date','Purchase Address'],axis=1,inplace=True)"
   ]
  },
  {
   "cell_type": "code",
   "execution_count": 182,
   "id": "97666942-970a-464a-ac6b-7007981bb619",
   "metadata": {},
   "outputs": [
    {
     "data": {
      "text/html": [
       "<div>\n",
       "<style scoped>\n",
       "    .dataframe tbody tr th:only-of-type {\n",
       "        vertical-align: middle;\n",
       "    }\n",
       "\n",
       "    .dataframe tbody tr th {\n",
       "        vertical-align: top;\n",
       "    }\n",
       "\n",
       "    .dataframe thead th {\n",
       "        text-align: right;\n",
       "    }\n",
       "</style>\n",
       "<table border=\"1\" class=\"dataframe\">\n",
       "  <thead>\n",
       "    <tr style=\"text-align: right;\">\n",
       "      <th></th>\n",
       "      <th>Order ID</th>\n",
       "      <th>Product</th>\n",
       "      <th>Quantity Ordered</th>\n",
       "      <th>Price Each</th>\n",
       "    </tr>\n",
       "  </thead>\n",
       "  <tbody>\n",
       "    <tr>\n",
       "      <th>0</th>\n",
       "      <td>10001</td>\n",
       "      <td>Laptop</td>\n",
       "      <td>1</td>\n",
       "      <td>1200.0</td>\n",
       "    </tr>\n",
       "    <tr>\n",
       "      <th>1</th>\n",
       "      <td>10002</td>\n",
       "      <td>Mouse</td>\n",
       "      <td>2</td>\n",
       "      <td>25.0</td>\n",
       "    </tr>\n",
       "    <tr>\n",
       "      <th>2</th>\n",
       "      <td>10003</td>\n",
       "      <td>Monitor</td>\n",
       "      <td>1</td>\n",
       "      <td>200.0</td>\n",
       "    </tr>\n",
       "    <tr>\n",
       "      <th>3</th>\n",
       "      <td>10004</td>\n",
       "      <td>Keyboard</td>\n",
       "      <td>3</td>\n",
       "      <td>75.0</td>\n",
       "    </tr>\n",
       "    <tr>\n",
       "      <th>4</th>\n",
       "      <td>10005</td>\n",
       "      <td>Headset</td>\n",
       "      <td>2</td>\n",
       "      <td>50.0</td>\n",
       "    </tr>\n",
       "    <tr>\n",
       "      <th>5</th>\n",
       "      <td>10006</td>\n",
       "      <td>Laptop</td>\n",
       "      <td>1</td>\n",
       "      <td>1200.0</td>\n",
       "    </tr>\n",
       "  </tbody>\n",
       "</table>\n",
       "</div>"
      ],
      "text/plain": [
       "   Order ID   Product  Quantity Ordered  Price Each\n",
       "0     10001    Laptop                 1      1200.0\n",
       "1     10002     Mouse                 2        25.0\n",
       "2     10003   Monitor                 1       200.0\n",
       "3     10004  Keyboard                 3        75.0\n",
       "4     10005   Headset                 2        50.0\n",
       "5     10006    Laptop                 1      1200.0"
      ]
     },
     "execution_count": 182,
     "metadata": {},
     "output_type": "execute_result"
    }
   ],
   "source": [
    "df"
   ]
  },
  {
   "cell_type": "markdown",
   "id": "34781d47-88d2-4add-a1a2-0b8f976cf0b4",
   "metadata": {},
   "source": [
    "PRINT NAME OF THE COLUMNS "
   ]
  },
  {
   "cell_type": "code",
   "execution_count": 185,
   "id": "63bac31b-763a-4a29-82e0-4e5d534e5e4a",
   "metadata": {},
   "outputs": [
    {
     "data": {
      "text/plain": [
       "Index(['Order ID', 'Product', 'Quantity Ordered', 'Price Each'], dtype='object')"
      ]
     },
     "execution_count": 185,
     "metadata": {},
     "output_type": "execute_result"
    }
   ],
   "source": [
    "df.columns"
   ]
  },
  {
   "cell_type": "code",
   "execution_count": 187,
   "id": "086d0553-4fd5-46fd-adfa-b0fd87f2d8da",
   "metadata": {},
   "outputs": [
    {
     "data": {
      "text/plain": [
       "RangeIndex(start=0, stop=6, step=1)"
      ]
     },
     "execution_count": 187,
     "metadata": {},
     "output_type": "execute_result"
    }
   ],
   "source": [
    "df.index"
   ]
  },
  {
   "cell_type": "markdown",
   "id": "4aa71d8b-f6fa-4b04-b6c5-2c91a1583758",
   "metadata": {},
   "source": [
    "SORT THE DATAFRAME AS PER THE PRICE"
   ]
  },
  {
   "cell_type": "code",
   "execution_count": 191,
   "id": "0872c0eb-854e-412d-8388-624626428c4c",
   "metadata": {},
   "outputs": [
    {
     "data": {
      "text/html": [
       "<div>\n",
       "<style scoped>\n",
       "    .dataframe tbody tr th:only-of-type {\n",
       "        vertical-align: middle;\n",
       "    }\n",
       "\n",
       "    .dataframe tbody tr th {\n",
       "        vertical-align: top;\n",
       "    }\n",
       "\n",
       "    .dataframe thead th {\n",
       "        text-align: right;\n",
       "    }\n",
       "</style>\n",
       "<table border=\"1\" class=\"dataframe\">\n",
       "  <thead>\n",
       "    <tr style=\"text-align: right;\">\n",
       "      <th></th>\n",
       "      <th>Order ID</th>\n",
       "      <th>Product</th>\n",
       "      <th>Quantity Ordered</th>\n",
       "      <th>Price Each</th>\n",
       "    </tr>\n",
       "  </thead>\n",
       "  <tbody>\n",
       "    <tr>\n",
       "      <th>1</th>\n",
       "      <td>10002</td>\n",
       "      <td>Mouse</td>\n",
       "      <td>2</td>\n",
       "      <td>25.0</td>\n",
       "    </tr>\n",
       "    <tr>\n",
       "      <th>4</th>\n",
       "      <td>10005</td>\n",
       "      <td>Headset</td>\n",
       "      <td>2</td>\n",
       "      <td>50.0</td>\n",
       "    </tr>\n",
       "    <tr>\n",
       "      <th>3</th>\n",
       "      <td>10004</td>\n",
       "      <td>Keyboard</td>\n",
       "      <td>3</td>\n",
       "      <td>75.0</td>\n",
       "    </tr>\n",
       "    <tr>\n",
       "      <th>2</th>\n",
       "      <td>10003</td>\n",
       "      <td>Monitor</td>\n",
       "      <td>1</td>\n",
       "      <td>200.0</td>\n",
       "    </tr>\n",
       "    <tr>\n",
       "      <th>0</th>\n",
       "      <td>10001</td>\n",
       "      <td>Laptop</td>\n",
       "      <td>1</td>\n",
       "      <td>1200.0</td>\n",
       "    </tr>\n",
       "    <tr>\n",
       "      <th>5</th>\n",
       "      <td>10006</td>\n",
       "      <td>Laptop</td>\n",
       "      <td>1</td>\n",
       "      <td>1200.0</td>\n",
       "    </tr>\n",
       "  </tbody>\n",
       "</table>\n",
       "</div>"
      ],
      "text/plain": [
       "   Order ID   Product  Quantity Ordered  Price Each\n",
       "1     10002     Mouse                 2        25.0\n",
       "4     10005   Headset                 2        50.0\n",
       "3     10004  Keyboard                 3        75.0\n",
       "2     10003   Monitor                 1       200.0\n",
       "0     10001    Laptop                 1      1200.0\n",
       "5     10006    Laptop                 1      1200.0"
      ]
     },
     "execution_count": 191,
     "metadata": {},
     "output_type": "execute_result"
    }
   ],
   "source": [
    " df.sort_values(by='Price Each',ascending=True)  #Ascending Order"
   ]
  },
  {
   "cell_type": "code",
   "execution_count": 195,
   "id": "85d8b1bc-fdfa-46e5-9f38-1a034d90af1a",
   "metadata": {},
   "outputs": [
    {
     "data": {
      "text/html": [
       "<div>\n",
       "<style scoped>\n",
       "    .dataframe tbody tr th:only-of-type {\n",
       "        vertical-align: middle;\n",
       "    }\n",
       "\n",
       "    .dataframe tbody tr th {\n",
       "        vertical-align: top;\n",
       "    }\n",
       "\n",
       "    .dataframe thead th {\n",
       "        text-align: right;\n",
       "    }\n",
       "</style>\n",
       "<table border=\"1\" class=\"dataframe\">\n",
       "  <thead>\n",
       "    <tr style=\"text-align: right;\">\n",
       "      <th></th>\n",
       "      <th>Order ID</th>\n",
       "      <th>Product</th>\n",
       "      <th>Quantity Ordered</th>\n",
       "      <th>Price Each</th>\n",
       "    </tr>\n",
       "  </thead>\n",
       "  <tbody>\n",
       "    <tr>\n",
       "      <th>5</th>\n",
       "      <td>10006</td>\n",
       "      <td>Laptop</td>\n",
       "      <td>1</td>\n",
       "      <td>1200.0</td>\n",
       "    </tr>\n",
       "    <tr>\n",
       "      <th>0</th>\n",
       "      <td>10001</td>\n",
       "      <td>Laptop</td>\n",
       "      <td>1</td>\n",
       "      <td>1200.0</td>\n",
       "    </tr>\n",
       "    <tr>\n",
       "      <th>2</th>\n",
       "      <td>10003</td>\n",
       "      <td>Monitor</td>\n",
       "      <td>1</td>\n",
       "      <td>200.0</td>\n",
       "    </tr>\n",
       "    <tr>\n",
       "      <th>3</th>\n",
       "      <td>10004</td>\n",
       "      <td>Keyboard</td>\n",
       "      <td>3</td>\n",
       "      <td>75.0</td>\n",
       "    </tr>\n",
       "    <tr>\n",
       "      <th>4</th>\n",
       "      <td>10005</td>\n",
       "      <td>Headset</td>\n",
       "      <td>2</td>\n",
       "      <td>50.0</td>\n",
       "    </tr>\n",
       "    <tr>\n",
       "      <th>1</th>\n",
       "      <td>10002</td>\n",
       "      <td>Mouse</td>\n",
       "      <td>2</td>\n",
       "      <td>25.0</td>\n",
       "    </tr>\n",
       "  </tbody>\n",
       "</table>\n",
       "</div>"
      ],
      "text/plain": [
       "   Order ID   Product  Quantity Ordered  Price Each\n",
       "5     10006    Laptop                 1      1200.0\n",
       "0     10001    Laptop                 1      1200.0\n",
       "2     10003   Monitor                 1       200.0\n",
       "3     10004  Keyboard                 3        75.0\n",
       "4     10005   Headset                 2        50.0\n",
       "1     10002     Mouse                 2        25.0"
      ]
     },
     "execution_count": 195,
     "metadata": {},
     "output_type": "execute_result"
    }
   ],
   "source": [
    " df.sort_values(by=['Price Each','Order ID'],ascending=False)  #Descending Order"
   ]
  },
  {
   "cell_type": "markdown",
   "id": "7c800658-177d-47e0-8eaf-12fc1e336de7",
   "metadata": {},
   "source": [
    "DISPLAY THE ORDER ID AND PRICE OF LAPTOP ONLY "
   ]
  },
  {
   "cell_type": "code",
   "execution_count": 205,
   "id": "9f41108d-74ea-408c-a7c1-539a1ed6e73b",
   "metadata": {},
   "outputs": [
    {
     "data": {
      "text/html": [
       "<div>\n",
       "<style scoped>\n",
       "    .dataframe tbody tr th:only-of-type {\n",
       "        vertical-align: middle;\n",
       "    }\n",
       "\n",
       "    .dataframe tbody tr th {\n",
       "        vertical-align: top;\n",
       "    }\n",
       "\n",
       "    .dataframe thead th {\n",
       "        text-align: right;\n",
       "    }\n",
       "</style>\n",
       "<table border=\"1\" class=\"dataframe\">\n",
       "  <thead>\n",
       "    <tr style=\"text-align: right;\">\n",
       "      <th></th>\n",
       "      <th>Order ID</th>\n",
       "      <th>Price Each</th>\n",
       "    </tr>\n",
       "  </thead>\n",
       "  <tbody>\n",
       "    <tr>\n",
       "      <th>0</th>\n",
       "      <td>10001</td>\n",
       "      <td>1200.0</td>\n",
       "    </tr>\n",
       "    <tr>\n",
       "      <th>5</th>\n",
       "      <td>10006</td>\n",
       "      <td>1200.0</td>\n",
       "    </tr>\n",
       "  </tbody>\n",
       "</table>\n",
       "</div>"
      ],
      "text/plain": [
       "   Order ID  Price Each\n",
       "0     10001      1200.0\n",
       "5     10006      1200.0"
      ]
     },
     "execution_count": 205,
     "metadata": {},
     "output_type": "execute_result"
    }
   ],
   "source": [
    "df[df['Product']=='Laptop'][['Order ID', 'Price Each']]"
   ]
  }
 ],
 "metadata": {
  "kernelspec": {
   "display_name": "Python 3 (ipykernel)",
   "language": "python",
   "name": "python3"
  },
  "language_info": {
   "codemirror_mode": {
    "name": "ipython",
    "version": 3
   },
   "file_extension": ".py",
   "mimetype": "text/x-python",
   "name": "python",
   "nbconvert_exporter": "python",
   "pygments_lexer": "ipython3",
   "version": "3.12.4"
  }
 },
 "nbformat": 4,
 "nbformat_minor": 5
}
